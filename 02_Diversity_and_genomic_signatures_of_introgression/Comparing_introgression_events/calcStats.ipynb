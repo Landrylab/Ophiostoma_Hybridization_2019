{
 "cells": [
  {
   "cell_type": "code",
   "execution_count": 1,
   "metadata": {},
   "outputs": [],
   "source": [
    "import pandas as pd\n",
    "import numpy as np\n",
    "import random\n",
    "from scipy import stats\n",
    "import matplotlib.pyplot as plt"
   ]
  },
  {
   "cell_type": "code",
   "execution_count": 5,
   "metadata": {},
   "outputs": [],
   "source": [
    "### Reading file with average branch length estimates\n",
    "df = pd.read_csv(\"./data/selectStrainsForbranchEstimationAllOU.out\",sep = \"\\t\", header = 0)\n",
    "strains = list(df[\"strain\"])\n",
    "locs = list(df[\"region\"])\n",
    "meanT = list(df[\"ttout\"])\n",
    "df[\"strain_loc\"] = [str(a)+\"_\"+str(b) for a,b in list(zip(strains,locs))]\n",
    "T = {strain:tim for strain,tim in list(zip(list(df[\"strain_loc\"]),list(df[\"ttout\"])))}"
   ]
  },
  {
   "cell_type": "code",
   "execution_count": 6,
   "metadata": {},
   "outputs": [],
   "source": [
    "### Dividing strain-locations into frequent and rare\n",
    "list(df[\"strain_loc\"])\n",
    "frequent = {\"US137\":[\"US137_3\"],\"R108\":[\"R108_9\",\"R108_13\"],\"V19\":[\"V19_5\",\"V19_1\",\"V19_13\"],\"H986\":[\"H986_1\",\"H986_13\",\"H986_3\"],\n",
    "           \"R22\":[\"R22_1\",\"R22_9\"],\"Yu141\":[\"Yu141_13\"],\"H276\":[\"H276_9\"],\"H2098\":[\"H2098_3\"],\"P122\":[\"P122_9\",\"P122_1\"],\n",
    "            \"Yu16\":[\"Yu16_1\",\"Yu16_3\"],\"H371\":[\"H371_1\"],\"TR88\":[\"TR88_5\",\"TR88_13\"],\"H413a\":[\"H413a_3\"],\n",
    "           \"H2091\":[\"H2091_3\"],\"H323\":[\"H323_3\"],\"DDS298\":[\"DDS298_3\"],\"DDS93\":[\"DDS93_3\"]}\n",
    "rare = {\"R108\":[\"R108_4\"],\"V19\":[\"V19_12\",\"V19_11\"],\"P122\":[\"P122_6\"],\"TR88\":[\"TR88_10\",\"TR88_2\"],\"H413a\":[\"H413a_14\"],\n",
    "       \"P114\":[\"P114_7\"],\"H323\":[\"H323_8\"]}"
   ]
  },
  {
   "cell_type": "code",
   "execution_count": 7,
   "metadata": {},
   "outputs": [
    {
     "data": {
      "text/plain": [
       "[['R108_4', 'R108_9'],\n",
       " ['V19_11', 'V19_1'],\n",
       " ['V19_12', 'V19_5'],\n",
       " ['P122_6', 'P122_1'],\n",
       " ['TR88_10', 'TR88_5'],\n",
       " ['TR88_2', 'TR88_13'],\n",
       " ['H413a_14', 'H413a_3'],\n",
       " ['H323_8', 'H323_3']]"
      ]
     },
     "execution_count": 7,
     "metadata": {},
     "output_type": "execute_result"
    }
   ],
   "source": [
    "### Taking pairs of frequent and rare IRs for same strains\n",
    "Data = []\n",
    "for samp in rare.keys():\n",
    "    if samp in list(frequent.keys()):\n",
    "        para = [rare[samp], frequent[samp]]\n",
    "        Data.append(para)\n",
    "D = []\n",
    "for ele in Data:\n",
    "    if len(ele[0]) == 1:\n",
    "        r1 = ele[0][0]\n",
    "        r2 = random.sample(ele[1],1)[0]\n",
    "        D.append([r1,r2])\n",
    "    elif len(ele[0]) == 2:\n",
    "        r1 = random.sample(ele[0],1)[0]\n",
    "        t1 =[i for i in ele[0] if i != r1][0]\n",
    "        r2 = random.sample(ele[1],1)[0]\n",
    "        rest = [j for j in ele[1] if j != r2]\n",
    "        t2 = random.sample(rest,1)[0]\n",
    "        D.append([r1,r2])\n",
    "        D.append([t1,t2])\n",
    "D"
   ]
  },
  {
   "cell_type": "code",
   "execution_count": 9,
   "metadata": {},
   "outputs": [],
   "source": [
    "### Estimating branch length difference for rare and frequent IRs\n",
    "s,rT,fT = [],[],[]\n",
    "for ele in D:\n",
    "    s.append(ele[0].split(\"_\")[0])\n",
    "    #print(ele[0])\n",
    "    #print(ele[1])\n",
    "    rT.append(T[ele[0]])\n",
    "    fT.append(T[ele[1]])\n",
    "dT = pd.DataFrame({\"strain\":s,\"timeR\":rT,\"timeF\":fT})\n",
    "dT[\"diff\"] = dT[\"timeF\"] - dT[\"timeR\"]\n",
    "dT[\"diff2\"] = dT[\"diff\"].apply(lambda x: np.sqrt(np.absolute(x)))"
   ]
  },
  {
   "cell_type": "code",
   "execution_count": 13,
   "metadata": {},
   "outputs": [
    {
     "data": {
      "image/png": "[encoded data removed]",
      "text/plain": [
       "<Figure size 216x360 with 1 Axes>"
      ]
     },
     "metadata": {
      "needs_background": "light"
     },
     "output_type": "display_data"
    }
   ],
   "source": [
    "### Plotting average branch lengths for rare and frequent IRs in pairs\n",
    "markers = ['ko--','k^-','k^-.','kx:','ks-','ks--','kD-.','kd:']\n",
    "plt.figure(figsize=(3,5))\n",
    "ax = plt.subplot(111)\n",
    "ax.set_ylim([0.005,0.07])\n",
    "i=0\n",
    "for a,b,c in zip(list(dT[\"timeR\"]),list(dT[\"timeF\"]),list(dT[\"strain\"])):\n",
    "    #ax.plot([\"Rare\",\"Frequent\"],[a,b],'-o',label = c)\n",
    "    ax.plot([\"Rare\",\"Frequent\"],[a,b],markers[i],label = c)\n",
    "    i+=1\n",
    "ax.legend(ncol=2,loc=\"upper center\")\n",
    "#plt.title('Branch length for rare and frequent regions')\n",
    "plt.ylabel('Branch length')\n",
    "plt.savefig('plot_branch_length_comparison.png')\n",
    "#plt.savefig('Branch_length_comparison.pdf')"
   ]
  },
  {
   "cell_type": "code",
   "execution_count": 221,
   "metadata": {},
   "outputs": [
    {
     "name": "stderr",
     "output_type": "stream",
     "text": [
      "/home/anna/anaconda3/lib/python3.6/site-packages/scipy/stats/stats.py:1394: UserWarning: kurtosistest only valid for n>=20 ... continuing anyway, n=8\n",
      "  \"anyway, n=%i\" % int(n))\n"
     ]
    },
    {
     "data": {
      "image/png": "[encoded data removed]",
      "text/plain": [
       "<Figure size 432x288 with 1 Axes>"
      ]
     },
     "metadata": {
      "needs_background": "light"
     },
     "output_type": "display_data"
    }
   ],
   "source": [
    "### For the paired T-test difference between timeR and timeF has to be normally distributed\n",
    "k2, p = stats.normaltest(list(dT[\"diff2\"]))\n",
    "plt.hist(list(dT[\"diff\"]))\n",
    "plt.show()\n"
   ]
  },
  {
   "cell_type": "code",
   "execution_count": 11,
   "metadata": {},
   "outputs": [
    {
     "name": "stderr",
     "output_type": "stream",
     "text": [
      "/home/anna/anaconda3/lib/python3.6/site-packages/scipy/stats/morestats.py:2388: UserWarning: Warning: sample size too small for normal approximation.\n",
      "  warnings.warn(\"Warning: sample size too small for normal approximation.\")\n"
     ]
    },
    {
     "data": {
      "text/plain": [
       "(1.0, 0.017290280592906253)"
      ]
     },
     "execution_count": 11,
     "metadata": {},
     "output_type": "execute_result"
    }
   ],
   "source": [
    "### Wilcoxon test for difference in branch length between rare and frequent IRs\n",
    "T, p = stats.wilcoxon(list(dT[\"timeR\"]),list(dT[\"timeF\"]))\n",
    "T, p"
   ]
  }
 ],
 "metadata": {
  "kernelspec": {
   "display_name": "base",
   "language": "python",
   "name": "base"
  },
  "language_info": {
   "codemirror_mode": {
    "name": "ipython",
    "version": 3
   },
   "file_extension": ".py",
   "mimetype": "text/x-python",
   "name": "python",
   "nbconvert_exporter": "python",
   "pygments_lexer": "ipython3",
   "version": "3.6.8"
  }
 },
 "nbformat": 4,
 "nbformat_minor": 2
}
